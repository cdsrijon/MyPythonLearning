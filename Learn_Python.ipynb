{
  "nbformat": 4,
  "nbformat_minor": 0,
  "metadata": {
    "colab": {
      "provenance": []
    },
    "kernelspec": {
      "name": "python3",
      "display_name": "Python 3"
    },
    "language_info": {
      "name": "python"
    }
  },
  "cells": [
    {
      "cell_type": "code",
      "source": [
        "from math import *"
      ],
      "metadata": {
        "id": "xS76IpMI2CVt"
      },
      "execution_count": null,
      "outputs": []
    },
    {
      "cell_type": "code",
      "execution_count": null,
      "metadata": {
        "colab": {
          "base_uri": "https://localhost:8080/"
        },
        "id": "pzsRur0PwlUO",
        "outputId": "35370cca-8399-4eae-b21b-c00e90cc15c1"
      },
      "outputs": [
        {
          "output_type": "stream",
          "name": "stdout",
          "text": [
            "Hello\n"
          ]
        }
      ],
      "source": [
        "print(\"Hello\")"
      ]
    },
    {
      "cell_type": "code",
      "source": [
        "Name1 = \"Srijon\"\n",
        "Age1 = \"24\"\n",
        "\n",
        "print(Name1 + \" \" + \"is a good boy\")\n",
        "print(\"He is now \" + Age1 + \" years old\\n\")\n",
        "\n",
        "\n",
        "Name2 = \"Monmoy\"\n",
        "Age2 = \"25\"\n",
        "\n",
        "print(Name2 + \" \" + \"is a good boy\")\n",
        "print(\"He is now \" + Age2 + \" years old\")"
      ],
      "metadata": {
        "id": "qySiOGtYw23l",
        "colab": {
          "base_uri": "https://localhost:8080/"
        },
        "outputId": "6cb3acf0-f54c-434c-96ed-9c54c3d3a15e"
      },
      "execution_count": null,
      "outputs": [
        {
          "output_type": "stream",
          "name": "stdout",
          "text": [
            "Srijon is a good boy\n",
            "He is now 24 years old\n",
            "\n",
            "Monmoy is a good boy\n",
            "He is now 25 years old\n"
          ]
        }
      ]
    },
    {
      "cell_type": "code",
      "source": [
        "print(\"Giraffe \\ Academy\")\n",
        "print(\"Giraffe \\\" Academy\")"
      ],
      "metadata": {
        "colab": {
          "base_uri": "https://localhost:8080/"
        },
        "id": "6HN09d75ymhs",
        "outputId": "e2870cef-ff3f-446a-f150-c00861446d5e"
      },
      "execution_count": null,
      "outputs": [
        {
          "output_type": "stream",
          "name": "stdout",
          "text": [
            "Giraffe \\ Academy\n",
            "Giraffe \" Academy\n"
          ]
        }
      ]
    },
    {
      "cell_type": "code",
      "source": [
        "phrase= \"Giraffe Academy\"\n",
        "\n",
        "print(phrase)\n",
        "print(phrase.upper())\n",
        "print(phrase.lower() + \"\\n\")\n",
        "\n",
        "print(phrase.isupper())\n",
        "print(phrase.islower())\n",
        "\n",
        "print(\"\\n\")\n",
        "\n",
        "print(phrase.upper().isupper())\n",
        "print(phrase.lower().islower())"
      ],
      "metadata": {
        "colab": {
          "base_uri": "https://localhost:8080/"
        },
        "id": "jNQ9pUAdy-Su",
        "outputId": "a7ad6960-b782-482f-99e5-65913c6165e8"
      },
      "execution_count": null,
      "outputs": [
        {
          "output_type": "stream",
          "name": "stdout",
          "text": [
            "Giraffe Academy\n",
            "GIRAFFE ACADEMY\n",
            "giraffe academy\n",
            "\n",
            "False\n",
            "False\n",
            "\n",
            "\n",
            "True\n",
            "True\n"
          ]
        }
      ]
    },
    {
      "cell_type": "code",
      "source": [
        "p =str((len(phrase)))\n",
        "\n",
        "print(\"Length: \" + p)"
      ],
      "metadata": {
        "colab": {
          "base_uri": "https://localhost:8080/"
        },
        "id": "lpqLy2WS06ou",
        "outputId": "014a5e0e-3a13-4602-8cee-6a95b0d0ead2"
      },
      "execution_count": null,
      "outputs": [
        {
          "output_type": "stream",
          "name": "stdout",
          "text": [
            "Length: 15\n"
          ]
        }
      ]
    },
    {
      "cell_type": "code",
      "source": [
        "print(phrase[0])\n",
        "\n",
        "print(phrase.index(\"G\"))\n",
        "\n",
        "print(phrase.index(\"Acad\"))\n",
        "\n",
        "print(phrase.index(\"a\"))\n",
        "\n",
        "print(phrase.replace(\"Giraffe\", \"Elephant\"))"
      ],
      "metadata": {
        "colab": {
          "base_uri": "https://localhost:8080/"
        },
        "id": "Dkm7j6Tf1PW0",
        "outputId": "28d8d22d-f690-42e3-f6e1-ba9b3bcf5204"
      },
      "execution_count": null,
      "outputs": [
        {
          "output_type": "stream",
          "name": "stdout",
          "text": [
            "G\n",
            "0\n",
            "8\n",
            "3\n",
            "Elephant Academy\n"
          ]
        }
      ]
    },
    {
      "cell_type": "code",
      "source": [
        "print(2)\n",
        "\n",
        "print(3 * 4)\n",
        "\n",
        "print(10/3)\n",
        "\n",
        "print(3*4+5)\n",
        "\n",
        "num = 137\n",
        "print(str(num) + \" is my number\")\n",
        "\n",
        "print(abs(-15))\n",
        "\n",
        "print(\"The power function for (4 to the power 3) is written as: pow(4,3) \" + \"\\n\" + \"And the result is: \" + str(pow(4,3)))\n",
        "\n",
        "print(max(5,7))\n",
        "print(min(5,7))\n",
        "\n",
        "print(round(3.7))\n",
        "print(round(3.5))\n",
        "print(round(3.2))\n",
        "\n",
        "print(floor(3.5))\n",
        "print(ceil(3.5))\n",
        "print(sqrt(81))"
      ],
      "metadata": {
        "colab": {
          "base_uri": "https://localhost:8080/"
        },
        "id": "LmhTCtEXzXKk",
        "outputId": "4b3111cf-5e7c-4bde-ba8b-b29ce247d45f"
      },
      "execution_count": null,
      "outputs": [
        {
          "output_type": "stream",
          "name": "stdout",
          "text": [
            "2\n",
            "12\n",
            "3.3333333333333335\n",
            "17\n",
            "137 is my number\n",
            "15\n",
            "The power function for (4 to the power 3) is written as: pow(4,3) \n",
            "And the result is: 64.0\n",
            "7\n",
            "5\n",
            "4\n",
            "4\n",
            "3\n",
            "3\n",
            "4\n",
            "9.0\n"
          ]
        }
      ]
    },
    {
      "cell_type": "code",
      "source": [
        "'''name = input(\"Enter your name: \")\n",
        "age = input(\"Enter your age: \")\n",
        "\n",
        "print(\"Hello \" + name)\n",
        "print(\"Hello \" + name + \" And, your age is just: \" + age)'''"
      ],
      "metadata": {
        "colab": {
          "base_uri": "https://localhost:8080/",
          "height": 35
        },
        "id": "BItnY8Yrzdeb",
        "outputId": "74cf05da-5759-44ce-9a3d-f724546beb08"
      },
      "execution_count": null,
      "outputs": [
        {
          "output_type": "execute_result",
          "data": {
            "text/plain": [
              "'name = input(\"Enter your name: \")\\nage = input(\"Enter your age: \")\\n\\nprint(\"Hello \" + name)\\nprint(\"Hello \" + name + \" And, your age is just: \" + age)'"
            ],
            "application/vnd.google.colaboratory.intrinsic+json": {
              "type": "string"
            }
          },
          "metadata": {},
          "execution_count": 9
        }
      ]
    },
    {
      "cell_type": "markdown",
      "source": [
        "# **Basic Calculator**"
      ],
      "metadata": {
        "id": "Ts4b3dOe5WXY"
      }
    },
    {
      "cell_type": "code",
      "source": [
        "'''num1 = input(\"Enter the first number: \")\n",
        "num2 = input(\"Enter the second number: \")\n",
        "\n",
        "sum = num1 + num2\n",
        "print(\"Concatenation: \" + sum)\n",
        "\n",
        "add = int(num1) + int(num2)\n",
        "print(\"Addition: \" + str(add))\n",
        "\n",
        "num1 = int(input(\"Enter the first number: \"))\n",
        "num2 = int(input(\"Enter the second number: \"))\n",
        "\n",
        "sum = num1 + num2\n",
        "print(\"Concatenation: \" + str(sum))'''"
      ],
      "metadata": {
        "id": "reEODYeG5KAy",
        "colab": {
          "base_uri": "https://localhost:8080/",
          "height": 70
        },
        "outputId": "93a8d4c2-53be-4461-8d76-7f200c20f733"
      },
      "execution_count": null,
      "outputs": [
        {
          "output_type": "execute_result",
          "data": {
            "text/plain": [
              "'num1 = input(\"Enter the first number: \")\\nnum2 = input(\"Enter the second number: \")\\n\\nsum = num1 + num2\\nprint(\"Concatenation: \" + sum)\\n\\nadd = int(num1) + int(num2)\\nprint(\"Addition: \" + str(add))\\n\\nnum1 = int(input(\"Enter the first number: \"))\\nnum2 = int(input(\"Enter the second number: \"))\\n\\nsum = num1 + num2\\nprint(\"Concatenation: \" + str(sum))'"
            ],
            "application/vnd.google.colaboratory.intrinsic+json": {
              "type": "string"
            }
          },
          "metadata": {},
          "execution_count": 10
        }
      ]
    },
    {
      "cell_type": "code",
      "source": [
        "friends = [\"Anamika\", \"Sakil\", \"Monmoy\", \"Tanjid\", \"Tonu\"]\n",
        "numbers = [4,8,6,5,7,3,9,4,5,8,2,5,4,7,8,9,6,5,2]\n",
        "\n",
        "print(friends[2])\n",
        "print(friends[-2])\n",
        "print(friends[1:3])\n",
        "\n",
        "print(\"\\nNormal List: \" + str(friends))\n",
        "\n",
        "friends.pop()\n",
        "print(friends)\n",
        "\n",
        "friends.append(\"Himi\")\n",
        "print(\"\\nAppended \\\"Himi\\\": \" + str(friends))\n",
        "\n",
        "friends.insert(2, \"Emon\")\n",
        "print(\"\\nInserted \\\"Emon\\\": \" + str(friends))\n",
        "\n",
        "print(\"\\nNormal Numbers: \" + str(numbers))\n",
        "\n",
        "numbers.sort()\n",
        "friends.sort()\n",
        "print(\"\\nSorted Numbers: \" + str(numbers))\n",
        "print(\"\\nSorted Friends: \" + str(friends))\n",
        "\n",
        "friends.reverse()\n",
        "print(\"\\nReversed numbers: \" + str(numbers))\n",
        "\n",
        "\n",
        "print(\"\\nIndex of \\\"Monmoy\\\" \" + str(friends.index(\"Monmoy\")))\n",
        "\n",
        "friends.extend(numbers)\n",
        "print(friends)\n",
        "\n",
        "friends.remove(\"Emon\")\n",
        "print(friends)\n",
        "\n",
        "numbers2 = numbers.copy()\n",
        "print(\"Numbers2: \" + str(numbers2))\n",
        "\n",
        "friends.clear()\n",
        "print(friends)"
      ],
      "metadata": {
        "id": "xBZHnykY6OCA",
        "colab": {
          "base_uri": "https://localhost:8080/"
        },
        "outputId": "d5fa48d0-b922-4b66-aa31-6c56b2dde4b0"
      },
      "execution_count": null,
      "outputs": [
        {
          "output_type": "stream",
          "name": "stdout",
          "text": [
            "Monmoy\n",
            "Tanjid\n",
            "['Sakil', 'Monmoy']\n",
            "\n",
            "Normal List: ['Anamika', 'Sakil', 'Monmoy', 'Tanjid', 'Tonu']\n",
            "['Anamika', 'Sakil', 'Monmoy', 'Tanjid']\n",
            "\n",
            "Appended \"Himi\": ['Anamika', 'Sakil', 'Monmoy', 'Tanjid', 'Himi']\n",
            "\n",
            "Inserted \"Emon\": ['Anamika', 'Sakil', 'Emon', 'Monmoy', 'Tanjid', 'Himi']\n",
            "\n",
            "Normal Numbers: [4, 8, 6, 5, 7, 3, 9, 4, 5, 8, 2, 5, 4, 7, 8, 9, 6, 5, 2]\n",
            "\n",
            "Sorted Numbers: [2, 2, 3, 4, 4, 4, 5, 5, 5, 5, 6, 6, 7, 7, 8, 8, 8, 9, 9]\n",
            "\n",
            "Sorted Friends: ['Anamika', 'Emon', 'Himi', 'Monmoy', 'Sakil', 'Tanjid']\n",
            "\n",
            "Reversed numbers: [2, 2, 3, 4, 4, 4, 5, 5, 5, 5, 6, 6, 7, 7, 8, 8, 8, 9, 9]\n",
            "\n",
            "Index of \"Monmoy\" 2\n",
            "['Tanjid', 'Sakil', 'Monmoy', 'Himi', 'Emon', 'Anamika', 2, 2, 3, 4, 4, 4, 5, 5, 5, 5, 6, 6, 7, 7, 8, 8, 8, 9, 9]\n",
            "['Tanjid', 'Sakil', 'Monmoy', 'Himi', 'Anamika', 2, 2, 3, 4, 4, 4, 5, 5, 5, 5, 6, 6, 7, 7, 8, 8, 8, 9, 9]\n",
            "Numbers2: [2, 2, 3, 4, 4, 4, 5, 5, 5, 5, 6, 6, 7, 7, 8, 8, 8, 9, 9]\n",
            "[]\n"
          ]
        }
      ]
    },
    {
      "cell_type": "markdown",
      "source": [
        "# **Tuple**"
      ],
      "metadata": {
        "id": "3KRGlhZ414eV"
      }
    },
    {
      "cell_type": "code",
      "source": [
        "#Tuple"
      ],
      "metadata": {
        "id": "qDUXZ_6713NJ"
      },
      "execution_count": null,
      "outputs": []
    },
    {
      "cell_type": "markdown",
      "source": [
        "# Function"
      ],
      "metadata": {
        "id": "iF4PBdzB2Aq9"
      }
    },
    {
      "cell_type": "code",
      "source": [
        "'''def say_hi(name,age):\n",
        "  print(\"Hey \" + name + \", you are \" + str(age) + \" years old.\")\n",
        "\n",
        "say_hi(input(\"Enter your name: \"), input(\"Enter your age: \"))\n",
        "\n",
        "def cube(num):\n",
        "  return pow(num,3)\n",
        "\n",
        "cube(4)'''"
      ],
      "metadata": {
        "id": "YIyEc9mx2Epm",
        "colab": {
          "base_uri": "https://localhost:8080/",
          "height": 53
        },
        "outputId": "8bd79d7a-4bdb-4dda-cf57-35b23479dbf9"
      },
      "execution_count": null,
      "outputs": [
        {
          "output_type": "execute_result",
          "data": {
            "text/plain": [
              "'def say_hi(name,age):\\n  print(\"Hey \" + name + \", you are \" + str(age) + \" years old.\")\\n\\nsay_hi(input(\"Enter your name: \"), input(\"Enter your age: \"))\\n\\ndef cube(num):\\n  return pow(num,3)\\n\\ncube(4)'"
            ],
            "application/vnd.google.colaboratory.intrinsic+json": {
              "type": "string"
            }
          },
          "metadata": {},
          "execution_count": 13
        }
      ]
    },
    {
      "cell_type": "markdown",
      "source": [
        "# If_Else"
      ],
      "metadata": {
        "id": "7JTNLvsFfBux"
      }
    },
    {
      "cell_type": "code",
      "source": [
        "import random\n",
        "\n",
        "is_male = bool(random.randint(0,1))\n",
        "is_tall = bool(random.randint(0,1))\n",
        "\n",
        "if is_male and is_tall:\n",
        "  print(\"you are a tall male\")\n",
        "elif is_male and not(is_tall):\n",
        "  print(\"you are a short male\")\n",
        "else:\n",
        "  print(\"you are not a male\")"
      ],
      "metadata": {
        "id": "RTSLUexGfMUb",
        "colab": {
          "base_uri": "https://localhost:8080/"
        },
        "outputId": "0c5419c7-dae4-4835-e11e-43a2f959ec8e"
      },
      "execution_count": null,
      "outputs": [
        {
          "output_type": "stream",
          "name": "stdout",
          "text": [
            "you are a short male\n"
          ]
        }
      ]
    },
    {
      "cell_type": "markdown",
      "source": [
        "# Max_num"
      ],
      "metadata": {
        "id": "9NMi2yrsj6NI"
      }
    },
    {
      "cell_type": "code",
      "source": [
        "'''def max_num():\n",
        "  num1 = float(input(\"Enter 1st number: \"))\n",
        "  num2 = float(input(\"Enter 2nd number: \"))\n",
        "  num3 = float(input(\"Enter 3rd number: \"))\n",
        "\n",
        "  if num1>=num2 and num1>=num3:\n",
        "    print(\"Maximum number is: \" + str(num1))\n",
        "  elif num3>=num2 and num3>=num1:\n",
        "    print(\"Maximum number is: \" + str(num3))\n",
        "  else:\n",
        "    print(\"Maximum number is: \" + str(num2))\n",
        "\n",
        "max_num()'''"
      ],
      "metadata": {
        "id": "82P6IDn6j4le",
        "colab": {
          "base_uri": "https://localhost:8080/",
          "height": 70
        },
        "outputId": "0b1e7cfe-8c35-46f5-fcae-7241c268db2b"
      },
      "execution_count": null,
      "outputs": [
        {
          "output_type": "execute_result",
          "data": {
            "text/plain": [
              "'def max_num():\\n  num1 = float(input(\"Enter 1st number: \"))\\n  num2 = float(input(\"Enter 2nd number: \"))\\n  num3 = float(input(\"Enter 3rd number: \"))\\n\\n  if num1>=num2 and num1>=num3:\\n    print(\"Maximum number is: \" + str(num1))\\n  elif num3>=num2 and num3>=num1:\\n    print(\"Maximum number is: \" + str(num3))\\n  else:\\n    print(\"Maximum number is: \" + str(num2))\\n\\nmax_num()'"
            ],
            "application/vnd.google.colaboratory.intrinsic+json": {
              "type": "string"
            }
          },
          "metadata": {},
          "execution_count": 15
        }
      ]
    },
    {
      "cell_type": "markdown",
      "source": [
        "# Calculator"
      ],
      "metadata": {
        "id": "gIThZQ_BlkBw"
      }
    },
    {
      "cell_type": "code",
      "source": [
        "'''def calculator():\n",
        "  num1 = float(input(\"Enter the 1st number: \"))\n",
        "  op = input(\"Enter the operator: \")\n",
        "  num2 = float(input(\"Enter the 2nd number: \"))\n",
        "\n",
        "  if op==\"+\":\n",
        "    return num1+num2\n",
        "\n",
        "  elif op==\"-\":\n",
        "    return num1-num2\n",
        "\n",
        "  elif op==\"*\":\n",
        "    return num1*num2\n",
        "\n",
        "  elif op==\"/\":\n",
        "    return num1/num2\n",
        "\n",
        "  elif op==\"%\":\n",
        "    return num1%num2\n",
        "\n",
        "calculator()'''"
      ],
      "metadata": {
        "id": "BEj3DqYflmYi",
        "colab": {
          "base_uri": "https://localhost:8080/",
          "height": 70
        },
        "outputId": "c5a352ed-281b-4f32-e986-d7024d7a3bfe"
      },
      "execution_count": null,
      "outputs": [
        {
          "output_type": "execute_result",
          "data": {
            "text/plain": [
              "'def calculator():\\n  num1 = float(input(\"Enter the 1st number: \"))\\n  op = input(\"Enter the operator: \")\\n  num2 = float(input(\"Enter the 2nd number: \"))\\n\\n  if op==\"+\":\\n    return num1+num2\\n\\n  elif op==\"-\":\\n    return num1-num2\\n\\n  elif op==\"*\":\\n    return num1*num2\\n\\n  elif op==\"/\":\\n    return num1/num2\\n\\n  elif op==\"%\":\\n    return num1%num2\\n\\ncalculator()'"
            ],
            "application/vnd.google.colaboratory.intrinsic+json": {
              "type": "string"
            }
          },
          "metadata": {},
          "execution_count": 16
        }
      ]
    },
    {
      "cell_type": "markdown",
      "source": [
        "# Dictionaries"
      ],
      "metadata": {
        "id": "HTHvJL6st2yJ"
      }
    },
    {
      "cell_type": "code",
      "source": [
        "'''month_conversion = {\n",
        "    \"jan\": \"January\",\n",
        "    \"feb\": \"February\",\n",
        "    \"mar\": \"March\",\n",
        "    \"apr\": \"April\",\n",
        "    \"may\": \"May\",\n",
        "    \"jun\": \"June\",\n",
        "    \"jul\": \"July\",\n",
        "    \"aug\": \"August\",\n",
        "    \"sep\": \"September\",\n",
        "    \"oct\": \"October\",\n",
        "    \"nov\": \"November\",\n",
        "    \"dec\": \"December\",\n",
        "    \"fri\": \"Friday\"\n",
        "}\n",
        "p = input(\"Enter a month: \")\n",
        "print(month_conversion[p])'''"
      ],
      "metadata": {
        "id": "2sJtNcakt6DY",
        "colab": {
          "base_uri": "https://localhost:8080/",
          "height": 70
        },
        "outputId": "1869523b-6066-4612-da59-dab1506901fe"
      },
      "execution_count": null,
      "outputs": [
        {
          "output_type": "execute_result",
          "data": {
            "text/plain": [
              "'month_conversion = {\\n    \"jan\": \"January\",\\n    \"feb\": \"February\",\\n    \"mar\": \"March\",\\n    \"apr\": \"April\",\\n    \"may\": \"May\",\\n    \"jun\": \"June\",\\n    \"jul\": \"July\",\\n    \"aug\": \"August\",\\n    \"sep\": \"September\",\\n    \"oct\": \"October\",\\n    \"nov\": \"November\",\\n    \"dec\": \"December\",\\n    \"fri\": \"Friday\"\\n}\\np = input(\"Enter a month: \")\\nprint(month_conversion[p])'"
            ],
            "application/vnd.google.colaboratory.intrinsic+json": {
              "type": "string"
            }
          },
          "metadata": {},
          "execution_count": 17
        }
      ]
    },
    {
      "cell_type": "code",
      "source": [
        "'''friend_list = {1:\"Anamika\",2:\"Sakil\",3:\"Monmoy\"}\n",
        "\n",
        "print(friend_list[1])'''"
      ],
      "metadata": {
        "id": "A8uvXp6U1YQg",
        "colab": {
          "base_uri": "https://localhost:8080/",
          "height": 35
        },
        "outputId": "2cf9a894-a071-4ba7-fb4a-80f0f4339f14"
      },
      "execution_count": null,
      "outputs": [
        {
          "output_type": "execute_result",
          "data": {
            "text/plain": [
              "'friend_list = {1:\"Anamika\",2:\"Sakil\",3:\"Monmoy\"}\\n\\nprint(friend_list[1])'"
            ],
            "application/vnd.google.colaboratory.intrinsic+json": {
              "type": "string"
            }
          },
          "metadata": {},
          "execution_count": 18
        }
      ]
    },
    {
      "source": [
        "'''friend_list = {\n",
        "    \"Anamika\": {\n",
        "        \"phone\": \"123-456-7890\",\n",
        "        \"email\": \"anamika@example.com\"\n",
        "    },\n",
        "    \"Sakil\": {\n",
        "        \"phone\": \"234-567-8901\",\n",
        "        \"email\": \"sakil@example.com\"\n",
        "    }\n",
        "}\n",
        "\n",
        "print(friend_list[\"Anamika\"][\"phone\"])\n",
        "\n",
        "print(\"\\n\" + str(friend_list[\"Anamika\"]))'''"
      ],
      "cell_type": "code",
      "metadata": {
        "id": "7yMj2NM52UjJ",
        "colab": {
          "base_uri": "https://localhost:8080/",
          "height": 53
        },
        "outputId": "212b5ead-921a-45a9-8072-42ebc98d0d46"
      },
      "execution_count": null,
      "outputs": [
        {
          "output_type": "execute_result",
          "data": {
            "text/plain": [
              "'friend_list = {\\n    \"Anamika\": {\\n        \"phone\": \"123-456-7890\",\\n        \"email\": \"anamika@example.com\"\\n    },\\n    \"Sakil\": {\\n        \"phone\": \"234-567-8901\",\\n        \"email\": \"sakil@example.com\"\\n    }\\n}\\n\\nprint(friend_list[\"Anamika\"][\"phone\"])\\n\\nprint(\"\\n\" + str(friend_list[\"Anamika\"]))'"
            ],
            "application/vnd.google.colaboratory.intrinsic+json": {
              "type": "string"
            }
          },
          "metadata": {},
          "execution_count": 19
        }
      ]
    },
    {
      "cell_type": "markdown",
      "source": [
        "# Loop"
      ],
      "metadata": {
        "id": "natV-Dr9WgaW"
      }
    },
    {
      "cell_type": "code",
      "source": [
        "i = 1\n",
        "while i<=10:\n",
        "  print(\"This is loop: \" + str(i))\n",
        "  i += 1\n",
        "\n",
        "print(\"Loop ended.\")"
      ],
      "metadata": {
        "id": "aitOwFGJ25SY",
        "colab": {
          "base_uri": "https://localhost:8080/"
        },
        "outputId": "3be8b1fc-52b5-4f67-9c67-26db5d1cd837"
      },
      "execution_count": null,
      "outputs": [
        {
          "output_type": "stream",
          "name": "stdout",
          "text": [
            "This is loop: 1\n",
            "This is loop: 2\n",
            "This is loop: 3\n",
            "This is loop: 4\n",
            "This is loop: 5\n",
            "This is loop: 6\n",
            "This is loop: 7\n",
            "This is loop: 8\n",
            "This is loop: 9\n",
            "This is loop: 10\n",
            "Loop ended.\n"
          ]
        }
      ]
    },
    {
      "cell_type": "code",
      "source": [
        "for i in range(10):\n",
        "  print(\"This is loop: \" + str(i))\n",
        "print(\"Loop ended.\")\n",
        "\n",
        "for i in range(1,10,2):\n",
        "  print(\"This is loop: \" + str(i))\n",
        "print(\"Loop ended.\")"
      ],
      "metadata": {
        "id": "AXYGDykWXJr9",
        "colab": {
          "base_uri": "https://localhost:8080/"
        },
        "outputId": "dc1ae798-c617-4962-e4f6-2ab2f94078a0"
      },
      "execution_count": null,
      "outputs": [
        {
          "output_type": "stream",
          "name": "stdout",
          "text": [
            "This is loop: 0\n",
            "This is loop: 1\n",
            "This is loop: 2\n",
            "This is loop: 3\n",
            "This is loop: 4\n",
            "This is loop: 5\n",
            "This is loop: 6\n",
            "This is loop: 7\n",
            "This is loop: 8\n",
            "This is loop: 9\n",
            "Loop ended.\n",
            "This is loop: 1\n",
            "This is loop: 3\n",
            "This is loop: 5\n",
            "This is loop: 7\n",
            "This is loop: 9\n",
            "Loop ended.\n"
          ]
        }
      ]
    },
    {
      "cell_type": "code",
      "source": [
        "password = \"srijon\"\n",
        "inp = \"\"\n",
        "count = 1\n",
        "\n",
        "while inp != password:\n",
        "  inp = input(\"Enter the password to login: \")\n",
        "  count +=1\n",
        "  if count==3:\n",
        "    print(\"Failed\")\n",
        "\n",
        "print(\"You have successfully logged in.\")"
      ],
      "metadata": {
        "id": "AXpjs52aYAz4",
        "colab": {
          "base_uri": "https://localhost:8080/"
        },
        "outputId": "65e252bf-07d5-4bca-dbe9-89d8ed17a470"
      },
      "execution_count": null,
      "outputs": [
        {
          "output_type": "stream",
          "name": "stdout",
          "text": [
            "Enter the password to login: 45\n",
            "Enter the password to login: 78\n",
            "Failed\n",
            "Enter the password to login: srijon\n",
            "You have successfully logged in.\n"
          ]
        }
      ]
    },
    {
      "source": [
        "word = \"srijon\"\n",
        "inp = \"\"\n",
        "count = 1\n",
        "\n",
        "while inp != word:\n",
        "  inp = input(\"Enter the password to login: \")\n",
        "  count +=1\n",
        "  if count==3:\n",
        "    print(\"Failed\")\n",
        "\n",
        "print(\"You have successfully logged in.\")"
      ],
      "cell_type": "code",
      "metadata": {
        "colab": {
          "base_uri": "https://localhost:8080/"
        },
        "id": "Eq6aWJbHRTG4",
        "outputId": "4317c77e-443c-4043-a532-a215beae61cc"
      },
      "execution_count": null,
      "outputs": [
        {
          "output_type": "stream",
          "name": "stdout",
          "text": [
            "Enter the password to login: srijon\n",
            "You have successfully logged in.\n"
          ]
        }
      ]
    },
    {
      "cell_type": "code",
      "source": [
        "word = \"srijon\"\n",
        "inp = \"\"\n",
        "count = 0\n",
        "max_attempts = 3\n",
        "\n",
        "while inp != word:\n",
        "    inp = input(\"Enter the password to login: \")\n",
        "    count += 1\n",
        "    if count == max_attempts:\n",
        "        break  # Add this line to exit the loop after max attempts\n",
        "\n",
        "if inp == word:\n",
        "  print(\"You have successfully logged in.\")\n",
        "else:\n",
        "  print(\"Failed\")\n"
      ],
      "metadata": {
        "id": "CDZ_6glASHVU",
        "outputId": "57a6ac54-71bc-49c1-b030-3e835286831d",
        "colab": {
          "base_uri": "https://localhost:8080/"
        }
      },
      "execution_count": null,
      "outputs": [
        {
          "output_type": "stream",
          "name": "stdout",
          "text": [
            "Enter the password to login: s\n",
            "Enter the password to login: s\n",
            "Enter the password to login: srijon\n",
            "You have successfully logged in.\n"
          ]
        }
      ]
    },
    {
      "source": [
        "password = \"srijon\"\n",
        "#guess=\"\"\n",
        "guess = input(\"Enter the password to login: \")\n",
        "\n",
        "while guess != password:\n",
        "  guess = input(\"Enter the password to login: \")\n",
        "\n",
        "print(\"You have successfully logged in.\")"
      ],
      "cell_type": "code",
      "metadata": {
        "id": "iJbC671zZVqq",
        "colab": {
          "base_uri": "https://localhost:8080/"
        },
        "outputId": "73591487-1eed-4289-e664-35b7c126413a"
      },
      "execution_count": null,
      "outputs": [
        {
          "output_type": "stream",
          "name": "stdout",
          "text": [
            "Enter the password to login: ft\n",
            "Enter the password to login: lk\n",
            "Enter the password to login: lk\n",
            "Enter the password to login: lk\n",
            "Enter the password to login: srijon\n",
            "You have successfully logged in.\n"
          ]
        }
      ]
    },
    {
      "cell_type": "code",
      "source": [
        "password = \"srijon\"\n",
        "guess = \"\"\n",
        "attempts = 0\n",
        "max_attempts = 3\n",
        "\n",
        "while guess != password and attempts < max_attempts:\n",
        "    guess = input(\"Enter the password to login: \")\n",
        "    attempts += 1\n",
        "\n",
        "if guess == password:\n",
        "    print(\"You have successfully logged in.\")\n",
        "else:\n",
        "    print(\"You have exceeded the maximum number of attempts. Access denied.\")"
      ],
      "metadata": {
        "id": "oMBS0EopaWkO",
        "colab": {
          "base_uri": "https://localhost:8080/"
        },
        "outputId": "a2f34332-75c7-4d21-d774-dc31003c4f08"
      },
      "execution_count": null,
      "outputs": [
        {
          "output_type": "stream",
          "name": "stdout",
          "text": [
            "Enter the password to login: srijon\n",
            "You have successfully logged in.\n"
          ]
        }
      ]
    },
    {
      "cell_type": "code",
      "source": [
        "A=input(\"Enter name\")"
      ],
      "metadata": {
        "id": "2XuhBwKLdsl4"
      },
      "execution_count": null,
      "outputs": []
    }
  ]
}